{
 "cells": [
  {
   "cell_type": "code",
   "execution_count": 1,
   "id": "08d3a5a2",
   "metadata": {},
   "outputs": [
    {
     "name": "stderr",
     "output_type": "stream",
     "text": [
      "[nltk_data] Downloading package wordnet to\n",
      "[nltk_data]     C:\\Users\\monkeydc\\AppData\\Roaming\\nltk_data...\n",
      "[nltk_data]   Package wordnet is already up-to-date!\n",
      "C:\\Users\\monkeydc\\.conda\\envs\\561\\lib\\site-packages\\ipykernel_launcher.py:17: MarkupResemblesLocatorWarning: The input looks more like a filename than markup. You may want to open this file and pass the filehandle into Beautiful Soup.\n",
      "  app.launch_new_instance()\n",
      "C:\\Users\\monkeydc\\.conda\\envs\\561\\lib\\site-packages\\ipykernel_launcher.py:17: MarkupResemblesLocatorWarning: The input looks more like a URL than markup. You may want to use an HTTP client like requests to get the document behind the URL, and feed that document to Beautiful Soup.\n",
      "  app.launch_new_instance()\n",
      "[nltk_data] Downloading package stopwords to\n",
      "[nltk_data]     C:\\Users\\monkeydc\\AppData\\Roaming\\nltk_data...\n",
      "[nltk_data]   Package stopwords is already up-to-date!\n",
      "[nltk_data] Downloading package omw-1.4 to\n",
      "[nltk_data]     C:\\Users\\monkeydc\\AppData\\Roaming\\nltk_data...\n",
      "[nltk_data]   Package omw-1.4 is already up-to-date!\n"
     ]
    }
   ],
   "source": [
    "import pandas as pd\n",
    "import numpy as np\n",
    "import nltk\n",
    "nltk.download('wordnet')\n",
    "raw_data = pd.read_csv('./dataset.csv', sep=',')\n",
    "for index in range(len(raw_data)):\n",
    "    if raw_data.at[index, 'star_rating'] > 3:\n",
    "        raw_data.at[index, 'star_rating'] = 1\n",
    "    elif raw_data.at[index, 'star_rating'] == 3:\n",
    "        raw_data.at[index, 'star_rating'] = 2\n",
    "    else:\n",
    "        raw_data.at[index, 'star_rating'] = 0\n",
    "from bs4 import BeautifulSoup\n",
    "import re\n",
    "# data cleaning\n",
    "raw_data['review_body'] = raw_data['review_body'].str.lower()\n",
    "raw_data['review_body'] = raw_data['review_body'].apply(lambda x: re.sub(r'http\\S+', '', BeautifulSoup(x, 'html.parser').get_text()))\n",
    "def remove_non_alphabetical(text):\n",
    "    return re.sub(r'[^a-zA-Z\\s]', '', text)\n",
    "\n",
    "raw_data['review_body'] = raw_data['review_body'].apply(remove_non_alphabetical)\n",
    "raw_data['review_body'] = raw_data['review_body'].apply(lambda x: ' '.join(x.split()))\n",
    "contraction_dict = contraction_dict = {\n",
    "    \"don't\": \"do not\",\n",
    "    \"doesn't\": \"does not\",\n",
    "    \"didn't\": \"did not\",\n",
    "    \"can't\": \"cannot\",\n",
    "    \"won't\": \"will not\",\n",
    "    \"isn't\": \"is not\",\n",
    "    \"haven't\": \"have not\",\n",
    "    \"hasn't\": \"has not\",\n",
    "    \"hadn't\": \"had not\",\n",
    "    \"you're\": \"you are\",\n",
    "    \"you've\": \"you have\",\n",
    "    \"you'll\": \"you will\",\n",
    "    \"when's\": \"when is\",\n",
    "    \"let's\": \"let us\",\n",
    "    \"'cause\": \"because\",\n",
    "    \"shouldn't\": \"should not\",\n",
    "    \"wouldn't\": \"would not\",\n",
    "    \"couldn't\": \"could not\",\n",
    "    \"wasn't\": \"was not\",\n",
    "    \"weren't\": \"were not\",\n",
    "    \"I'm\": \"I am\",\n",
    "    \"I've\": \"I have\",\n",
    "    \"I'll\": \"I will\",\n",
    "    \"it's\": \"it is\",\n",
    "    \"that's\": \"that is\",\n",
    "    \"who's\": \"who is\",\n",
    "    \"what's\": \"what is\",\n",
    "    \"where's\": \"where is\",\n",
    "    \"we're\": \"we are\",\n",
    "    \"we've\": \"we have\",\n",
    "    \"we'll\": \"we will\",\n",
    "    \"they're\": \"they are\",\n",
    "    \"they've\": \"they have\",\n",
    "    \"they'll\": \"they will\",\n",
    "    \"she's\": \"she is\",\n",
    "    \"he's\": \"he is\",\n",
    "    \"how's\": \"how is\",\n",
    "    \"you'd\": \"you would\",\n",
    "    \"we'd\": \"we would\",\n",
    "    \"they'd\": \"they would\",\n",
    "}\n",
    "raw_data['review_body'] = raw_data['review_body'].replace(contraction_dict, regex=True)\n",
    "from nltk.corpus import stopwords\n",
    "nltk.download('stopwords')\n",
    "stop_words = set(stopwords.words('english'))\n",
    "def remove_stop_words(text):\n",
    "    words = text.split(\" \")\n",
    "    filtered_words = [word for word in words if word.lower() not in stop_words]\n",
    "    return ' '.join(filtered_words)\n",
    "raw_data['review_body'] = raw_data['review_body'].apply(remove_stop_words)\n",
    "from nltk.stem import WordNetLemmatizer\n",
    "lemmatizer = WordNetLemmatizer()\n",
    "nltk.download('omw-1.4') # I have to download this dataset\n",
    "raw_data['review_body'] = raw_data['review_body'].apply(lambda x: ' '.join([lemmatizer.lemmatize(word) for word in x.split()]))\n",
    "from gensim.models import Word2Vec\n",
    "from nltk.tokenize import word_tokenize\n",
    "import nltk\n",
    "import string\n",
    "def preprocess_text(text):\n",
    "    tokens = word_tokenize(text)\n",
    "    stop_words = set(stopwords.words('english') + list(string.punctuation))\n",
    "    tokens = [word.lower() for word in tokens if word.isalpha() and word.lower() not in stop_words]\n",
    "    return tokens\n",
    "raw_data['clean_reviw'] = raw_data['review_body'].apply(preprocess_text)"
   ]
  },
  {
   "cell_type": "code",
   "execution_count": 2,
   "id": "bd18b7f1",
   "metadata": {},
   "outputs": [],
   "source": [
    "import gensim\n",
    "model = gensim.models.KeyedVectors.load_word2vec_format('word2vec_model_b.txt', binary=False)"
   ]
  },
  {
   "cell_type": "code",
   "execution_count": 3,
   "id": "14aaf9af",
   "metadata": {},
   "outputs": [],
   "source": [
    "# binary dataset\n",
    "values_to_stratify = [0,1]\n",
    "def stratified_sample(group, n=100000):\n",
    "    return group.sample(n=n, random_state=1)\n",
    "\n",
    "binary_data= raw_data[raw_data['star_rating'].isin(values_to_stratify)].groupby('star_rating', group_keys=False).apply(stratified_sample)\n",
    "\n",
    "def average_word2vec(text, model=None, vw=None):\n",
    "    if model:\n",
    "        word_vectors = [model[word] for word in text if word in model.key_to_index]\n",
    "    if vw:\n",
    "        word_vectors = [wv[word] for word in text if word in wv.key_to_index]\n",
    "    if word_vectors:\n",
    "        return np.mean(word_vectors, axis=0)\n",
    "    else:\n",
    "        return np.zeros(300)\n",
    "binary_data['word2vec_features_self'] = binary_data['clean_reviw'].apply(lambda x: average_word2vec(x, model=model))"
   ]
  },
  {
   "cell_type": "code",
   "execution_count": 4,
   "id": "ad3fd8c2",
   "metadata": {},
   "outputs": [],
   "source": [
    "from sklearn.utils import shuffle\n",
    "shuffled_dataset = shuffle(binary_data, random_state=42)\n",
    "from sklearn.model_selection import train_test_split\n",
    "X_train_s, X_test_s, y_train_s, y_test_s = train_test_split(shuffled_dataset['word2vec_features_self'].tolist(), shuffled_dataset['star_rating'], test_size=0.2, random_state=42)\n"
   ]
  },
  {
   "cell_type": "markdown",
   "id": "d6ca4f9b",
   "metadata": {},
   "source": [
    "# Binary"
   ]
  },
  {
   "cell_type": "code",
   "execution_count": 5,
   "id": "797c2352",
   "metadata": {
    "scrolled": true
   },
   "outputs": [
    {
     "name": "stderr",
     "output_type": "stream",
     "text": [
      "C:\\Users\\monkeydc\\.conda\\envs\\561\\lib\\site-packages\\tqdm\\auto.py:22: TqdmWarning: IProgress not found. Please update jupyter and ipywidgets. See https://ipywidgets.readthedocs.io/en/stable/user_install.html\n",
      "  from .autonotebook import tqdm as notebook_tqdm\n",
      "C:\\Users\\monkeydc\\.conda\\envs\\561\\lib\\site-packages\\ipykernel_launcher.py:12: UserWarning: Creating a tensor from a list of numpy.ndarrays is extremely slow. Please consider converting the list to a single numpy.ndarray with numpy.array() before converting to a tensor. (Triggered internally at C:\\actions-runner\\_work\\pytorch\\pytorch\\builder\\windows\\pytorch\\torch\\csrc\\utils\\tensor_new.cpp:233.)\n",
      "  if sys.path[0] == \"\":\n"
     ]
    },
    {
     "name": "stdout",
     "output_type": "stream",
     "text": [
      "0.8617\n"
     ]
    }
   ],
   "source": [
    "import torch\n",
    "import torch.nn as nn\n",
    "import torch.optim as optim\n",
    "from torch.utils.data import DataLoader, TensorDataset\n",
    "from sklearn.model_selection import train_test_split\n",
    "import numpy as np\n",
    "from gensim.models import Word2Vec\n",
    "from nltk.tokenize import word_tokenize\n",
    "from nltk.corpus import stopwords\n",
    "import string\n",
    "\n",
    "X_train_tensor_b_s = torch.FloatTensor(X_train_s)\n",
    "y_train_tensor_b_s = torch.LongTensor(y_train_s.values)\n",
    "X_test_tensor_b_s = torch.FloatTensor(X_test_s)\n",
    "y_test_tensor_b_s = torch.LongTensor(y_test_s.values)\n",
    "\n",
    "input_size = 300\n",
    "hidden_size1 = 50\n",
    "hidden_size2 = 10\n",
    "output_size_binary = 2\n",
    "output_size_ternary = 3\n",
    "\n",
    "# model\n",
    "class MyMLP(nn.Module):\n",
    "    def __init__(self, input_size, hidden_size1, hidden_size2, output_size):\n",
    "        super(MyMLP, self).__init__()\n",
    "        self.fc1 = nn.Linear(input_size, hidden_size1)\n",
    "        self.relu1 = nn.ReLU()\n",
    "        self.fc2 = nn.Linear(hidden_size1, hidden_size2)\n",
    "        self.relu2 = nn.ReLU()\n",
    "        self.fc3 = nn.Linear(hidden_size2, output_size)\n",
    "        \n",
    "    def forward(self, x):\n",
    "        x = self.fc1(x)\n",
    "        x = self.relu1(x)\n",
    "        x = self.fc2(x)\n",
    "        x = self.relu2(x)\n",
    "        x = self.fc3(x)\n",
    "        return x\n",
    "\n",
    "mlp_binary = MyMLP(input_size, hidden_size1, hidden_size2, output_size_binary)\n",
    "criterion = nn.CrossEntropyLoss()\n",
    "optimizer_binary = optim.Adam(mlp_binary.parameters(), lr=0.001)\n",
    "for epoch in range(1500):\n",
    "    outputs = mlp_binary(X_train_tensor_b_s)\n",
    "    loss = criterion(outputs, y_train_tensor_b_s)\n",
    "    optimizer_binary.zero_grad()\n",
    "    loss.backward()\n",
    "    optimizer_binary.step()\n",
    "    \n",
    "with torch.no_grad():\n",
    "    mlp_binary.eval()\n",
    "    y_pred_binary_s = torch.argmax(mlp_binary(X_test_tensor_b_s), dim=1)\n",
    "    accuracy_binary_s = torch.sum(y_pred_binary_s == y_test_tensor_b_s).item() / len(y_test_tensor_b_s)\n",
    "    \n",
    "print(accuracy_binary_s)"
   ]
  },
  {
   "cell_type": "markdown",
   "id": "d26b9073",
   "metadata": {},
   "source": [
    "# Ternary"
   ]
  },
  {
   "cell_type": "code",
   "execution_count": 6,
   "id": "934f8c4b",
   "metadata": {},
   "outputs": [
    {
     "name": "stdout",
     "output_type": "stream",
     "text": [
      "0.70174\n"
     ]
    }
   ],
   "source": [
    "def average_word2vec(text, model=None, vw=None):\n",
    "    if model:\n",
    "        word_vectors = [model[word] for word in text if word in model.key_to_index]\n",
    "    if vw:\n",
    "        word_vectors = [wv[word] for word in text if word in wv.key_to_index]\n",
    "    if word_vectors:\n",
    "        return np.mean(word_vectors, axis=0)\n",
    "    else:\n",
    "        return np.zeros(300)\n",
    "    \n",
    "raw_data['word2vec_features_self'] = raw_data['clean_reviw'].apply(lambda x: average_word2vec(x, model=model))\n",
    "\n",
    "from sklearn.utils import shuffle\n",
    "shuffled_dataset = shuffle(raw_data, random_state=42)\n",
    "from sklearn.model_selection import train_test_split\n",
    "X_train_g, X_test_g, y_train_g, y_test_g = train_test_split(shuffled_dataset['word2vec_features_self'].tolist(), shuffled_dataset['star_rating'], test_size=0.2, random_state=42)\n",
    "\n",
    "X_train_tensor_t_g = torch.FloatTensor(X_train_g)\n",
    "y_train_tensor_t_g = torch.LongTensor(y_train_g.values)\n",
    "X_test_tensor_t_g = torch.FloatTensor(X_test_g)\n",
    "y_test_tensor_t_g = torch.LongTensor(y_test_g.values)\n",
    "\n",
    "mlp_ternary = MyMLP(input_size, hidden_size1, hidden_size2, output_size_ternary)\n",
    "criterion = nn.CrossEntropyLoss()\n",
    "optimizer_ternary = optim.Adam(mlp_ternary.parameters(), lr=0.001)\n",
    "for epoch in range(1500):\n",
    "    outputs = mlp_ternary(X_train_tensor_t_g)\n",
    "    loss = criterion(outputs, y_train_tensor_t_g)\n",
    "    optimizer_ternary.zero_grad()\n",
    "    loss.backward()\n",
    "    optimizer_ternary.step()\n",
    "with torch.no_grad():\n",
    "    mlp_ternary.eval()\n",
    "    y_pred_ternary_g = torch.argmax(mlp_ternary(X_test_tensor_t_g), dim=1)\n",
    "    accuracy_ternary_g = torch.sum(y_pred_ternary_g == y_test_tensor_t_g).item() / len(y_test_tensor_t_g)\n",
    "\n",
    "print(accuracy_ternary_g)"
   ]
  }
 ],
 "metadata": {
  "kernelspec": {
   "display_name": "py375",
   "language": "python",
   "name": "561"
  },
  "language_info": {
   "codemirror_mode": {
    "name": "ipython",
    "version": 3
   },
   "file_extension": ".py",
   "mimetype": "text/x-python",
   "name": "python",
   "nbconvert_exporter": "python",
   "pygments_lexer": "ipython3",
   "version": "3.7.5"
  }
 },
 "nbformat": 4,
 "nbformat_minor": 5
}
