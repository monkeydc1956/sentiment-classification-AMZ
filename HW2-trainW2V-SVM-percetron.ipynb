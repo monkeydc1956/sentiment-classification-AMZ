{
 "cells": [
  {
   "cell_type": "code",
   "execution_count": 1,
   "id": "57d55b85",
   "metadata": {
    "scrolled": true
   },
   "outputs": [
    {
     "name": "stderr",
     "output_type": "stream",
     "text": [
      "[nltk_data] Downloading package wordnet to\n",
      "[nltk_data]     C:\\Users\\monkeydc\\AppData\\Roaming\\nltk_data...\n",
      "[nltk_data]   Package wordnet is already up-to-date!\n"
     ]
    },
    {
     "data": {
      "text/plain": [
       "True"
      ]
     },
     "execution_count": 1,
     "metadata": {},
     "output_type": "execute_result"
    }
   ],
   "source": [
    "import pandas as pd\n",
    "import numpy as np\n",
    "import nltk\n",
    "nltk.download('wordnet')"
   ]
  },
  {
   "cell_type": "code",
   "execution_count": 2,
   "id": "611aded5",
   "metadata": {
    "scrolled": true
   },
   "outputs": [],
   "source": [
    "raw_data = pd.read_csv('./dataset.csv', sep=',')"
   ]
  },
  {
   "cell_type": "markdown",
   "id": "fbf196e6",
   "metadata": {},
   "source": [
    "# Rerating review AND data preparing"
   ]
  },
  {
   "cell_type": "code",
   "execution_count": 3,
   "id": "19e15b45",
   "metadata": {},
   "outputs": [],
   "source": [
    "for index in range(len(raw_data)):\n",
    "    if raw_data.at[index, 'star_rating'] > 3:\n",
    "        raw_data.at[index, 'star_rating'] = 1\n",
    "    elif raw_data.at[index, 'star_rating'] == 3:\n",
    "        raw_data.at[index, 'star_rating'] = 2\n",
    "    else:\n",
    "        raw_data.at[index, 'star_rating'] = 0"
   ]
  },
  {
   "cell_type": "code",
   "execution_count": 4,
   "id": "fb2fb712",
   "metadata": {},
   "outputs": [
    {
     "name": "stderr",
     "output_type": "stream",
     "text": [
      "C:\\Users\\monkeydc\\.conda\\envs\\561\\lib\\site-packages\\ipykernel_launcher.py:5: MarkupResemblesLocatorWarning: The input looks more like a filename than markup. You may want to open this file and pass the filehandle into Beautiful Soup.\n",
      "  \"\"\"\n",
      "C:\\Users\\monkeydc\\.conda\\envs\\561\\lib\\site-packages\\ipykernel_launcher.py:5: MarkupResemblesLocatorWarning: The input looks more like a URL than markup. You may want to use an HTTP client like requests to get the document behind the URL, and feed that document to Beautiful Soup.\n",
      "  \"\"\"\n"
     ]
    }
   ],
   "source": [
    "from bs4 import BeautifulSoup\n",
    "import re\n",
    "# data cleaning\n",
    "raw_data['review_body'] = raw_data['review_body'].str.lower()\n",
    "raw_data['review_body'] = raw_data['review_body'].apply(lambda x: re.sub(r'http\\S+', '', BeautifulSoup(x, 'html.parser').get_text()))\n",
    "def remove_non_alphabetical(text):\n",
    "    return re.sub(r'[^a-zA-Z\\s]', '', text)\n",
    "\n",
    "raw_data['review_body'] = raw_data['review_body'].apply(remove_non_alphabetical)\n",
    "raw_data['review_body'] = raw_data['review_body'].apply(lambda x: ' '.join(x.split()))\n",
    "contraction_dict = contraction_dict = {\n",
    "    \"don't\": \"do not\",\n",
    "    \"doesn't\": \"does not\",\n",
    "    \"didn't\": \"did not\",\n",
    "    \"can't\": \"cannot\",\n",
    "    \"won't\": \"will not\",\n",
    "    \"isn't\": \"is not\",\n",
    "    \"haven't\": \"have not\",\n",
    "    \"hasn't\": \"has not\",\n",
    "    \"hadn't\": \"had not\",\n",
    "    \"you're\": \"you are\",\n",
    "    \"you've\": \"you have\",\n",
    "    \"you'll\": \"you will\",\n",
    "    \"when's\": \"when is\",\n",
    "    \"let's\": \"let us\",\n",
    "    \"'cause\": \"because\",\n",
    "    \"shouldn't\": \"should not\",\n",
    "    \"wouldn't\": \"would not\",\n",
    "    \"couldn't\": \"could not\",\n",
    "    \"wasn't\": \"was not\",\n",
    "    \"weren't\": \"were not\",\n",
    "    \"I'm\": \"I am\",\n",
    "    \"I've\": \"I have\",\n",
    "    \"I'll\": \"I will\",\n",
    "    \"it's\": \"it is\",\n",
    "    \"that's\": \"that is\",\n",
    "    \"who's\": \"who is\",\n",
    "    \"what's\": \"what is\",\n",
    "    \"where's\": \"where is\",\n",
    "    \"we're\": \"we are\",\n",
    "    \"we've\": \"we have\",\n",
    "    \"we'll\": \"we will\",\n",
    "    \"they're\": \"they are\",\n",
    "    \"they've\": \"they have\",\n",
    "    \"they'll\": \"they will\",\n",
    "    \"she's\": \"she is\",\n",
    "    \"he's\": \"he is\",\n",
    "    \"how's\": \"how is\",\n",
    "    \"you'd\": \"you would\",\n",
    "    \"we'd\": \"we would\",\n",
    "    \"they'd\": \"they would\",\n",
    "}\n",
    "raw_data['review_body'] = raw_data['review_body'].replace(contraction_dict, regex=True)"
   ]
  },
  {
   "cell_type": "code",
   "execution_count": 5,
   "id": "749469f2",
   "metadata": {},
   "outputs": [
    {
     "name": "stderr",
     "output_type": "stream",
     "text": [
      "[nltk_data] Downloading package stopwords to\n",
      "[nltk_data]     C:\\Users\\monkeydc\\AppData\\Roaming\\nltk_data...\n",
      "[nltk_data]   Package stopwords is already up-to-date!\n",
      "[nltk_data] Downloading package omw-1.4 to\n",
      "[nltk_data]     C:\\Users\\monkeydc\\AppData\\Roaming\\nltk_data...\n",
      "[nltk_data]   Package omw-1.4 is already up-to-date!\n"
     ]
    }
   ],
   "source": [
    "from nltk.corpus import stopwords\n",
    "nltk.download('stopwords')\n",
    "stop_words = set(stopwords.words('english'))\n",
    "def remove_stop_words(text):\n",
    "    words = text.split(\" \")\n",
    "    filtered_words = [word for word in words if word.lower() not in stop_words]\n",
    "    return ' '.join(filtered_words)\n",
    "raw_data['review_body'] = raw_data['review_body'].apply(remove_stop_words)\n",
    "from nltk.stem import WordNetLemmatizer\n",
    "lemmatizer = WordNetLemmatizer()\n",
    "nltk.download('omw-1.4') # I have to download this dataset\n",
    "raw_data['review_body'] = raw_data['review_body'].apply(lambda x: ' '.join([lemmatizer.lemmatize(word) for word in x.split()]))"
   ]
  },
  {
   "cell_type": "code",
   "execution_count": 6,
   "id": "e28393c3",
   "metadata": {},
   "outputs": [],
   "source": [
    "from gensim.models import Word2Vec\n",
    "from nltk.tokenize import word_tokenize\n",
    "import nltk"
   ]
  },
  {
   "cell_type": "markdown",
   "id": "28f0a044",
   "metadata": {},
   "source": [
    "# Need to import String "
   ]
  },
  {
   "cell_type": "code",
   "execution_count": 7,
   "id": "ccd0a419",
   "metadata": {},
   "outputs": [],
   "source": [
    "# train on personal dataset\n",
    "import string\n",
    "def preprocess_text(text):\n",
    "    tokens = word_tokenize(text)\n",
    "    stop_words = set(stopwords.words('english') + list(string.punctuation))\n",
    "    tokens = [word.lower() for word in tokens if word.isalpha() and word.lower() not in stop_words]\n",
    "    return tokens\n",
    "raw_data['clean_reviw'] = raw_data['review_body'].apply(preprocess_text)\n",
    "# better word2vec\n",
    "# model = Word2Vec(sentences=raw_data['clean_reviw'], vector_size=300, window=5, min_count=1, workers=4)"
   ]
  },
  {
   "cell_type": "markdown",
   "id": "c5c61d84",
   "metadata": {},
   "source": [
    "# train self W2V and Save model(named word2vec_model_b.txt)"
   ]
  },
  {
   "cell_type": "code",
   "execution_count": 8,
   "id": "a57ffe79",
   "metadata": {},
   "outputs": [],
   "source": [
    "model = Word2Vec(sentences=raw_data['clean_reviw'], vector_size=300, window=11, min_count=10, workers=4)"
   ]
  },
  {
   "cell_type": "code",
   "execution_count": 9,
   "id": "2bf5576c",
   "metadata": {},
   "outputs": [],
   "source": [
    "model.wv.save_word2vec_format('word2vec_model_b.txt', binary=False)"
   ]
  },
  {
   "cell_type": "code",
   "execution_count": 10,
   "id": "7c95e922",
   "metadata": {},
   "outputs": [],
   "source": [
    "# every individual jupyter notebook need to use this .txt to reload self W2V"
   ]
  },
  {
   "cell_type": "markdown",
   "id": "b2dd3bc1",
   "metadata": {},
   "source": [
    "# Compare google pretrain and self-train W2V in word similarity"
   ]
  },
  {
   "cell_type": "code",
   "execution_count": 11,
   "id": "a88f2d5c",
   "metadata": {},
   "outputs": [],
   "source": [
    "import gensim\n",
    "model = gensim.models.KeyedVectors.load_word2vec_format('word2vec_model_b.txt', binary=False)"
   ]
  },
  {
   "cell_type": "code",
   "execution_count": 12,
   "id": "9c4d8e1a",
   "metadata": {},
   "outputs": [],
   "source": [
    "import numpy as np\n",
    "def simple_similarity(vector1, vector2):\n",
    "    dot_product = np.dot(vector1, vector2)\n",
    "    norm_vector1 = np.linalg.norm(vector1)\n",
    "    norm_vector2 = np.linalg.norm(vector2)\n",
    "    similarity = dot_product / (norm_vector1 * norm_vector2)\n",
    "    return similarity"
   ]
  },
  {
   "cell_type": "code",
   "execution_count": 18,
   "id": "006c2bb2",
   "metadata": {
    "scrolled": false
   },
   "outputs": [
    {
     "name": "stdout",
     "output_type": "stream",
     "text": [
      "Similariy between water and rock :  0.10122213\n",
      "Similariy between ice and rock :  0.234708\n",
      "Similariy between apple and iphone :  0.59669954\n",
      "Similariy between apple and ipad :  0.55011463\n"
     ]
    }
   ],
   "source": [
    "print(\"Similariy between water and rock : \", simple_similarity(model['water'],model['rock']))\n",
    "print(\"Similariy between ice and rock : \", simple_similarity(model['ice'],model['rock']))\n",
    "print(\"Similariy between apple and iphone : \", simple_similarity(model['apple'],model['iphone']))\n",
    "print(\"Similariy between apple and ipad : \", simple_similarity(model['apple'],model['ipad']))"
   ]
  },
  {
   "cell_type": "code",
   "execution_count": 14,
   "id": "18a1ac73",
   "metadata": {},
   "outputs": [],
   "source": [
    "import gensim.downloader as api\n",
    "wv = api.load('word2vec-google-news-300')"
   ]
  },
  {
   "cell_type": "code",
   "execution_count": 15,
   "id": "4dfd310e",
   "metadata": {},
   "outputs": [],
   "source": [
    "# Word Embedding Similarity"
   ]
  },
  {
   "cell_type": "code",
   "execution_count": 17,
   "id": "14f1f234",
   "metadata": {
    "scrolled": true
   },
   "outputs": [
    {
     "name": "stdout",
     "output_type": "stream",
     "text": [
      "Similariy between water and rock :  0.1448098\n",
      "Similariy between ice and rock :  0.26914403\n",
      "Similariy between apple and iphone :  0.3199041\n",
      "Similariy between apple and ipad :  0.35862675\n"
     ]
    }
   ],
   "source": [
    "# Example on word2vec-google-news-300\n",
    "print(\"Similariy between water and rock : \", wv.similarity('water', 'rock'))\n",
    "print(\"Similariy between ice and rock : \", wv.similarity('ice', 'rock'))\n",
    "print(\"Similariy between apple and iphone : \", wv.similarity('apple','iphone'))\n",
    "print(\"Similariy between apple and ipad : \", wv.similarity('apple','ipad'))"
   ]
  },
  {
   "cell_type": "markdown",
   "id": "d25c0f55",
   "metadata": {},
   "source": [
    "# SVM & percepton"
   ]
  },
  {
   "cell_type": "code",
   "execution_count": 18,
   "id": "9818a542",
   "metadata": {},
   "outputs": [],
   "source": [
    "# binary dataset\n",
    "values_to_stratify = [0,1]\n",
    "def stratified_sample(group, n=100000):\n",
    "    return group.sample(n=n, random_state=1)\n",
    "\n",
    "binary_data= raw_data[raw_data['star_rating'].isin(values_to_stratify)].groupby('star_rating', group_keys=False).apply(stratified_sample)"
   ]
  },
  {
   "cell_type": "code",
   "execution_count": 19,
   "id": "6cd5ca10",
   "metadata": {},
   "outputs": [],
   "source": [
    "def average_word2vec(text, model=None, vw=None):\n",
    "    if model:\n",
    "        word_vectors = [model[word] for word in text if word in model.key_to_index]\n",
    "    if vw:\n",
    "        word_vectors = [wv[word] for word in text if word in wv.key_to_index]\n",
    "    if word_vectors:\n",
    "        return np.mean(word_vectors, axis=0)\n",
    "    else:\n",
    "        return np.zeros(300)"
   ]
  },
  {
   "cell_type": "code",
   "execution_count": 20,
   "id": "82e25823",
   "metadata": {},
   "outputs": [],
   "source": [
    "binary_data['word2vec_features_google'] = binary_data['clean_reviw'].apply(lambda x: average_word2vec(x, vw=wv))"
   ]
  },
  {
   "cell_type": "code",
   "execution_count": 22,
   "id": "3ea80fee",
   "metadata": {
    "scrolled": true
   },
   "outputs": [],
   "source": [
    "binary_data['word2vec_features_self'] = binary_data['clean_reviw'].apply(lambda x: average_word2vec(x, model=model))"
   ]
  },
  {
   "cell_type": "code",
   "execution_count": 24,
   "id": "3cf22b0d",
   "metadata": {},
   "outputs": [],
   "source": [
    "from sklearn.utils import shuffle\n",
    "shuffled_dataset = shuffle(binary_data, random_state=42)"
   ]
  },
  {
   "cell_type": "code",
   "execution_count": 25,
   "id": "0ef5eb1c",
   "metadata": {},
   "outputs": [],
   "source": [
    "from sklearn.model_selection import train_test_split\n",
    "X_train_s, X_test_s, y_train_s, y_test_s = train_test_split(shuffled_dataset['word2vec_features_self'].tolist(), shuffled_dataset['star_rating'], test_size=0.2, random_state=42)\n",
    "X_train_g, X_test_g, y_train_g, y_test_g = train_test_split(shuffled_dataset['word2vec_features_google'].tolist(), shuffled_dataset['star_rating'], test_size=0.2, random_state=42)"
   ]
  },
  {
   "cell_type": "markdown",
   "id": "fafe2bbe",
   "metadata": {},
   "source": [
    "# google + SVM/percepton"
   ]
  },
  {
   "cell_type": "code",
   "execution_count": 26,
   "id": "b7e88b06",
   "metadata": {},
   "outputs": [],
   "source": [
    "from sklearn.linear_model import Perceptron\n",
    "from sklearn.svm import LinearSVC\n",
    "from sklearn.metrics import accuracy_score\n",
    "from sklearn.metrics import precision_score\n",
    "from sklearn.metrics import recall_score\n",
    "from sklearn.metrics import f1_score\n",
    "perceptron_model = Perceptron()\n",
    "perceptron_model.fit(X_train_g, y_train_g)\n",
    "y_pred_perceptron = perceptron_model.predict(X_test_g)\n",
    "accuracy_perceptron_g = accuracy_score(y_test_g, y_pred_perceptron)\n",
    "\n",
    "# Train SVM model\n",
    "svm_model = LinearSVC()\n",
    "svm_model.fit(X_train_g, y_train_g)\n",
    "y_pred_svm = svm_model.predict(X_test_g)\n",
    "accuracy_svm_g = accuracy_score(y_test_g, y_pred_svm)"
   ]
  },
  {
   "cell_type": "code",
   "execution_count": 27,
   "id": "62be2160",
   "metadata": {
    "scrolled": true
   },
   "outputs": [
    {
     "name": "stdout",
     "output_type": "stream",
     "text": [
      "0.7609\n",
      "0.816\n"
     ]
    }
   ],
   "source": [
    "print(accuracy_perceptron_g)\n",
    "print(accuracy_svm_g)"
   ]
  },
  {
   "cell_type": "markdown",
   "id": "ffad72c3",
   "metadata": {},
   "source": [
    "# self + SVM/percepton"
   ]
  },
  {
   "cell_type": "code",
   "execution_count": 28,
   "id": "aa652f4d",
   "metadata": {
    "scrolled": false
   },
   "outputs": [
    {
     "name": "stdout",
     "output_type": "stream",
     "text": [
      "0.724825\n",
      "0.84435\n"
     ]
    },
    {
     "name": "stderr",
     "output_type": "stream",
     "text": [
      "C:\\Users\\monkeydc\\.conda\\envs\\561\\lib\\site-packages\\sklearn\\svm\\_base.py:1208: ConvergenceWarning: Liblinear failed to converge, increase the number of iterations.\n",
      "  ConvergenceWarning,\n"
     ]
    }
   ],
   "source": [
    "from sklearn.linear_model import Perceptron\n",
    "from sklearn.svm import LinearSVC\n",
    "from sklearn.metrics import accuracy_score\n",
    "from sklearn.metrics import precision_score\n",
    "from sklearn.metrics import recall_score\n",
    "from sklearn.metrics import f1_score\n",
    "perceptron_model = Perceptron()\n",
    "perceptron_model.fit(X_train_s, y_train_s)\n",
    "y_pred_perceptron = perceptron_model.predict(X_test_s)\n",
    "accuracy_perceptron = accuracy_score(y_test_s, y_pred_perceptron)\n",
    "\n",
    "# Train SVM model\n",
    "svm_model = LinearSVC()\n",
    "svm_model.fit(X_train_s, y_train_s)\n",
    "y_pred_svm = svm_model.predict(X_test_s)\n",
    "accuracy_svm = accuracy_score(y_test_s, y_pred_svm)\n",
    "print(accuracy_perceptron)\n",
    "print(accuracy_svm)"
   ]
  },
  {
   "cell_type": "markdown",
   "id": "78d3affc",
   "metadata": {},
   "source": [
    "# Useless code (remove to different .in)"
   ]
  },
  {
   "cell_type": "code",
   "execution_count": 29,
   "id": "d5c3bc93",
   "metadata": {},
   "outputs": [
    {
     "name": "stderr",
     "output_type": "stream",
     "text": [
      "C:\\Users\\monkeydc\\.conda\\envs\\561\\lib\\site-packages\\tqdm\\auto.py:22: TqdmWarning: IProgress not found. Please update jupyter and ipywidgets. See https://ipywidgets.readthedocs.io/en/stable/user_install.html\n",
      "  from .autonotebook import tqdm as notebook_tqdm\n"
     ]
    }
   ],
   "source": [
    "import torch\n",
    "import torch.nn as nn\n",
    "import torch.optim as optim\n",
    "from torch.utils.data import DataLoader, TensorDataset\n",
    "from sklearn.model_selection import train_test_split\n",
    "import numpy as np\n",
    "from gensim.models import Word2Vec\n",
    "from nltk.tokenize import word_tokenize\n",
    "from nltk.corpus import stopwords\n",
    "import string"
   ]
  },
  {
   "cell_type": "code",
   "execution_count": 30,
   "id": "6175b3b1",
   "metadata": {},
   "outputs": [
    {
     "name": "stderr",
     "output_type": "stream",
     "text": [
      "C:\\Users\\monkeydc\\.conda\\envs\\561\\lib\\site-packages\\ipykernel_launcher.py:1: UserWarning: Creating a tensor from a list of numpy.ndarrays is extremely slow. Please consider converting the list to a single numpy.ndarray with numpy.array() before converting to a tensor. (Triggered internally at C:\\actions-runner\\_work\\pytorch\\pytorch\\builder\\windows\\pytorch\\torch\\csrc\\utils\\tensor_new.cpp:233.)\n",
      "  \"\"\"Entry point for launching an IPython kernel.\n"
     ]
    }
   ],
   "source": [
    "X_train_tensor_b_s = torch.FloatTensor(X_train_s)\n",
    "y_train_tensor_b_s = torch.LongTensor(y_train_s.values)\n",
    "X_test_tensor_b_s = torch.FloatTensor(X_test_s)\n",
    "y_test_tensor_b_s = torch.LongTensor(y_test_s.values)"
   ]
  },
  {
   "cell_type": "code",
   "execution_count": 31,
   "id": "2a919015",
   "metadata": {},
   "outputs": [],
   "source": [
    "X_train_tensor_b_g = torch.FloatTensor(X_train_g)\n",
    "y_train_tensor_b_g = torch.LongTensor(y_train_g.values)\n",
    "X_test_tensor_b_g = torch.FloatTensor(X_test_g)\n",
    "y_test_tensor_b_g = torch.LongTensor(y_test_g.values)"
   ]
  },
  {
   "cell_type": "code",
   "execution_count": 32,
   "id": "71549119",
   "metadata": {},
   "outputs": [],
   "source": [
    "input_size = 300\n",
    "hidden_size1 = 50\n",
    "hidden_size2 = 10\n",
    "output_size_binary = 2\n",
    "output_size_ternary = 3"
   ]
  },
  {
   "cell_type": "code",
   "execution_count": 33,
   "id": "ef80c3a2",
   "metadata": {},
   "outputs": [],
   "source": [
    "# model\n",
    "class MyMLP(nn.Module):\n",
    "    def __init__(self, input_size, hidden_size1, hidden_size2, output_size):\n",
    "        super(MyMLP, self).__init__()\n",
    "        self.fc1 = nn.Linear(input_size, hidden_size1)\n",
    "        self.relu1 = nn.ReLU()\n",
    "        self.fc2 = nn.Linear(hidden_size1, hidden_size2)\n",
    "        self.relu2 = nn.ReLU()\n",
    "        self.fc3 = nn.Linear(hidden_size2, output_size)\n",
    "        \n",
    "    def forward(self, x):\n",
    "        x = self.fc1(x)\n",
    "        x = self.relu1(x)\n",
    "        x = self.fc2(x)\n",
    "        x = self.relu2(x)\n",
    "        x = self.fc3(x)\n",
    "        return x"
   ]
  },
  {
   "cell_type": "code",
   "execution_count": 34,
   "id": "c80bfd97",
   "metadata": {},
   "outputs": [],
   "source": [
    "# binary"
   ]
  },
  {
   "cell_type": "code",
   "execution_count": 36,
   "id": "8ccdc52a",
   "metadata": {},
   "outputs": [],
   "source": [
    "# google + FNN\n",
    "mlp_binary = MyMLP(input_size, hidden_size1, hidden_size2, output_size_binary)\n",
    "criterion = nn.CrossEntropyLoss()\n",
    "optimizer_binary = optim.Adam(mlp_binary.parameters(), lr=0.001)\n",
    "for epoch in range(1500):\n",
    "    outputs = mlp_binary(X_train_tensor_b_s)\n",
    "    loss = criterion(outputs, y_train_tensor_b_s)\n",
    "    optimizer_binary.zero_grad()\n",
    "    loss.backward()\n",
    "    optimizer_binary.step()"
   ]
  },
  {
   "cell_type": "code",
   "execution_count": 37,
   "id": "220a6221",
   "metadata": {},
   "outputs": [],
   "source": [
    "with torch.no_grad():\n",
    "    mlp_binary.eval()\n",
    "    y_pred_binary_s = torch.argmax(mlp_binary(X_test_tensor_b_s), dim=1)\n",
    "    accuracy_binary_s = torch.sum(y_pred_binary_s == y_test_tensor_b_s).item() / len(y_test_tensor_b_s)"
   ]
  },
  {
   "cell_type": "code",
   "execution_count": 38,
   "id": "3d9e6542",
   "metadata": {},
   "outputs": [
    {
     "name": "stdout",
     "output_type": "stream",
     "text": [
      "0.861575\n"
     ]
    }
   ],
   "source": [
    "print(accuracy_binary_s)"
   ]
  },
  {
   "cell_type": "code",
   "execution_count": 39,
   "id": "79be6fb6",
   "metadata": {
    "scrolled": true
   },
   "outputs": [
    {
     "name": "stdout",
     "output_type": "stream",
     "text": [
      "0.83945\n"
     ]
    }
   ],
   "source": [
    "# self + FNN\n",
    "mlp_binary = MyMLP(input_size, hidden_size1, hidden_size2, output_size_binary)\n",
    "criterion = nn.CrossEntropyLoss()\n",
    "optimizer_binary = optim.Adam(mlp_binary.parameters(), lr=0.001)\n",
    "for epoch in range(1500):\n",
    "    outputs = mlp_binary(X_train_tensor_b_g)\n",
    "    loss = criterion(outputs, y_train_tensor_b_g)\n",
    "    optimizer_binary.zero_grad()\n",
    "    loss.backward()\n",
    "    optimizer_binary.step()\n",
    "with torch.no_grad():\n",
    "    mlp_binary.eval()\n",
    "    y_pred_binary_g = torch.argmax(mlp_binary(X_test_tensor_b_g), dim=1)\n",
    "    accuracy_binary_g = torch.sum(y_pred_binary_g == y_test_tensor_b_g).item() / len(y_test_tensor_b_g)\n",
    "print(accuracy_binary_g)"
   ]
  },
  {
   "cell_type": "code",
   "execution_count": 40,
   "id": "17f91d9c",
   "metadata": {},
   "outputs": [],
   "source": [
    "# self+CNN # different dimension with FNN"
   ]
  }
 ],
 "metadata": {
  "kernelspec": {
   "display_name": "py375",
   "language": "python",
   "name": "561"
  },
  "language_info": {
   "codemirror_mode": {
    "name": "ipython",
    "version": 3
   },
   "file_extension": ".py",
   "mimetype": "text/x-python",
   "name": "python",
   "nbconvert_exporter": "python",
   "pygments_lexer": "ipython3",
   "version": "3.7.5"
  }
 },
 "nbformat": 4,
 "nbformat_minor": 5
}
