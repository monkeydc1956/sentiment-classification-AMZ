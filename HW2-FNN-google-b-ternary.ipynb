{
 "cells": [
  {
   "cell_type": "code",
   "execution_count": 1,
   "id": "68e67697",
   "metadata": {
    "scrolled": true
   },
   "outputs": [
    {
     "name": "stderr",
     "output_type": "stream",
     "text": [
      "C:\\Users\\monkeydc\\.conda\\envs\\561\\lib\\site-packages\\tqdm\\auto.py:22: TqdmWarning: IProgress not found. Please update jupyter and ipywidgets. See https://ipywidgets.readthedocs.io/en/stable/user_install.html\n",
      "  from .autonotebook import tqdm as notebook_tqdm\n",
      "[nltk_data] Downloading package wordnet to\n",
      "[nltk_data]     C:\\Users\\monkeydc\\AppData\\Roaming\\nltk_data...\n",
      "[nltk_data]   Package wordnet is already up-to-date!\n",
      "C:\\Users\\monkeydc\\.conda\\envs\\561\\lib\\site-packages\\ipykernel_launcher.py:26: MarkupResemblesLocatorWarning: The input looks more like a filename than markup. You may want to open this file and pass the filehandle into Beautiful Soup.\n",
      "C:\\Users\\monkeydc\\.conda\\envs\\561\\lib\\site-packages\\ipykernel_launcher.py:26: MarkupResemblesLocatorWarning: The input looks more like a URL than markup. You may want to use an HTTP client like requests to get the document behind the URL, and feed that document to Beautiful Soup.\n",
      "[nltk_data] Downloading package stopwords to\n",
      "[nltk_data]     C:\\Users\\monkeydc\\AppData\\Roaming\\nltk_data...\n",
      "[nltk_data]   Package stopwords is already up-to-date!\n",
      "[nltk_data] Downloading package omw-1.4 to\n",
      "[nltk_data]     C:\\Users\\monkeydc\\AppData\\Roaming\\nltk_data...\n",
      "[nltk_data]   Package omw-1.4 is already up-to-date!\n"
     ]
    }
   ],
   "source": [
    "import pandas as pd\n",
    "import numpy as np\n",
    "import nltk\n",
    "import torch\n",
    "import torch.nn as nn\n",
    "import torch.optim as optim\n",
    "from torch.utils.data import DataLoader, TensorDataset\n",
    "from sklearn.model_selection import train_test_split\n",
    "import numpy as np\n",
    "from gensim.models import Word2Vec\n",
    "from nltk.tokenize import word_tokenize\n",
    "from nltk.corpus import stopwords\n",
    "nltk.download('wordnet')\n",
    "raw_data = pd.read_csv('./dataset.csv', sep=',')\n",
    "for index in range(len(raw_data)):\n",
    "    if raw_data.at[index, 'star_rating'] > 3:\n",
    "        raw_data.at[index, 'star_rating'] = 1\n",
    "    elif raw_data.at[index, 'star_rating'] == 3:\n",
    "        raw_data.at[index, 'star_rating'] = 2\n",
    "    else:\n",
    "        raw_data.at[index, 'star_rating'] = 0\n",
    "from bs4 import BeautifulSoup\n",
    "import re\n",
    "# data cleaning\n",
    "raw_data['review_body'] = raw_data['review_body'].str.lower()\n",
    "raw_data['review_body'] = raw_data['review_body'].apply(lambda x: re.sub(r'http\\S+', '', BeautifulSoup(x, 'html.parser').get_text()))\n",
    "def remove_non_alphabetical(text):\n",
    "    return re.sub(r'[^a-zA-Z\\s]', '', text)\n",
    "\n",
    "raw_data['review_body'] = raw_data['review_body'].apply(remove_non_alphabetical)\n",
    "raw_data['review_body'] = raw_data['review_body'].apply(lambda x: ' '.join(x.split()))\n",
    "contraction_dict = contraction_dict = {\n",
    "    \"don't\": \"do not\",\n",
    "    \"doesn't\": \"does not\",\n",
    "    \"didn't\": \"did not\",\n",
    "    \"can't\": \"cannot\",\n",
    "    \"won't\": \"will not\",\n",
    "    \"isn't\": \"is not\",\n",
    "    \"haven't\": \"have not\",\n",
    "    \"hasn't\": \"has not\",\n",
    "    \"hadn't\": \"had not\",\n",
    "    \"you're\": \"you are\",\n",
    "    \"you've\": \"you have\",\n",
    "    \"you'll\": \"you will\",\n",
    "    \"when's\": \"when is\",\n",
    "    \"let's\": \"let us\",\n",
    "    \"'cause\": \"because\",\n",
    "    \"shouldn't\": \"should not\",\n",
    "    \"wouldn't\": \"would not\",\n",
    "    \"couldn't\": \"could not\",\n",
    "    \"wasn't\": \"was not\",\n",
    "    \"weren't\": \"were not\",\n",
    "    \"I'm\": \"I am\",\n",
    "    \"I've\": \"I have\",\n",
    "    \"I'll\": \"I will\",\n",
    "    \"it's\": \"it is\",\n",
    "    \"that's\": \"that is\",\n",
    "    \"who's\": \"who is\",\n",
    "    \"what's\": \"what is\",\n",
    "    \"where's\": \"where is\",\n",
    "    \"we're\": \"we are\",\n",
    "    \"we've\": \"we have\",\n",
    "    \"we'll\": \"we will\",\n",
    "    \"they're\": \"they are\",\n",
    "    \"they've\": \"they have\",\n",
    "    \"they'll\": \"they will\",\n",
    "    \"she's\": \"she is\",\n",
    "    \"he's\": \"he is\",\n",
    "    \"how's\": \"how is\",\n",
    "    \"you'd\": \"you would\",\n",
    "    \"we'd\": \"we would\",\n",
    "    \"they'd\": \"they would\",\n",
    "}\n",
    "raw_data['review_body'] = raw_data['review_body'].replace(contraction_dict, regex=True)\n",
    "from nltk.corpus import stopwords\n",
    "nltk.download('stopwords')\n",
    "stop_words = set(stopwords.words('english'))\n",
    "def remove_stop_words(text):\n",
    "    words = text.split(\" \")\n",
    "    filtered_words = [word for word in words if word.lower() not in stop_words]\n",
    "    return ' '.join(filtered_words)\n",
    "raw_data['review_body'] = raw_data['review_body'].apply(remove_stop_words)\n",
    "from nltk.stem import WordNetLemmatizer\n",
    "lemmatizer = WordNetLemmatizer()\n",
    "nltk.download('omw-1.4') # I have to download this dataset\n",
    "raw_data['review_body'] = raw_data['review_body'].apply(lambda x: ' '.join([lemmatizer.lemmatize(word) for word in x.split()]))\n",
    "from gensim.models import Word2Vec\n",
    "from nltk.tokenize import word_tokenize\n",
    "import nltk\n",
    "import string\n",
    "def preprocess_text(text):\n",
    "    tokens = word_tokenize(text)\n",
    "    stop_words = set(stopwords.words('english') + list(string.punctuation))\n",
    "    tokens = [word.lower() for word in tokens if word.isalpha() and word.lower() not in stop_words]\n",
    "    return tokens\n",
    "raw_data['clean_reviw'] = raw_data['review_body'].apply(preprocess_text)"
   ]
  },
  {
   "cell_type": "code",
   "execution_count": 2,
   "id": "37ae452e",
   "metadata": {},
   "outputs": [],
   "source": [
    "import gensim.downloader as api\n",
    "wv = api.load('word2vec-google-news-300')"
   ]
  },
  {
   "cell_type": "code",
   "execution_count": 3,
   "id": "063291f4",
   "metadata": {},
   "outputs": [],
   "source": [
    "device = torch.device(\"cuda:0\" if torch.cuda.is_available() else \"cpu\")"
   ]
  },
  {
   "cell_type": "code",
   "execution_count": 4,
   "id": "c9a3dc8a",
   "metadata": {},
   "outputs": [],
   "source": [
    "from torch.utils.data import Dataset\n",
    "class BetterDataset(Dataset):\n",
    "    def __init__(self, reviews, labels, word2vec_model):\n",
    "        self.reviews = reviews\n",
    "        self.labels = labels\n",
    "        self.word2vec_model = word2vec_model\n",
    "\n",
    "    def __len__(self):\n",
    "        return len(self.reviews)\n",
    "\n",
    "    def __getitem__(self, idx):\n",
    "        review = self.reviews[idx]\n",
    "        # word_vectors = []\n",
    "\n",
    "        concatenated_vectors = np.zeros((10, 300), dtype=np.float16)\n",
    "        for i in range(min(10, len(review))):\n",
    "            word = review[i]\n",
    "            if word in self.word2vec_model.key_to_index:\n",
    "                concatenated_vectors[i] = self.word2vec_model[word]\n",
    "    \n",
    "#         for i in range(10):\n",
    "#             word = review[i]\n",
    "#             if word in self.word2vec_model:\n",
    "#                 word_vector = self.word2vec_model[word]\n",
    "#             else:\n",
    "#                 word_vector = torch.zeros(300, dtype=np.float16)  # Handle out-of-vocabulary words\n",
    "#             word_vectors.append(word_vector)\n",
    "\n",
    "        label = torch.tensor(self.labels[idx], dtype=torch.long)\n",
    "        return torch.tensor(concatenated_vectors.flatten().tolist()), label"
   ]
  },
  {
   "cell_type": "code",
   "execution_count": 5,
   "id": "d3ac38ea",
   "metadata": {},
   "outputs": [
    {
     "name": "stdout",
     "output_type": "stream",
     "text": [
      "200000\n",
      "50000\n"
     ]
    }
   ],
   "source": [
    "from sklearn.utils import shuffle\n",
    "shuffled_dataset = shuffle(raw_data, random_state=42)\n",
    "from sklearn.model_selection import train_test_split\n",
    "X_train_g = shuffled_dataset[:200000]\n",
    "X_test_g = shuffled_dataset[200000:]\n",
    "print(len(X_train_g))\n",
    "print(len(X_test_g))"
   ]
  },
  {
   "cell_type": "code",
   "execution_count": 6,
   "id": "0f595f1c",
   "metadata": {},
   "outputs": [],
   "source": [
    "X_train_g = X_train_g.reset_index(drop=True)"
   ]
  },
  {
   "cell_type": "code",
   "execution_count": 7,
   "id": "69324a08",
   "metadata": {},
   "outputs": [],
   "source": [
    "X_test_g = X_test_g.reset_index(drop=True)"
   ]
  },
  {
   "cell_type": "code",
   "execution_count": 8,
   "id": "db2f42d4",
   "metadata": {},
   "outputs": [],
   "source": [
    "train_dataset = BetterDataset(X_train_g['clean_reviw'], X_train_g['star_rating'], wv)"
   ]
  },
  {
   "cell_type": "code",
   "execution_count": 9,
   "id": "2dbfdf5e",
   "metadata": {},
   "outputs": [],
   "source": [
    "test_dataset = BetterDataset(X_test_g['clean_reviw'], X_test_g['star_rating'], wv)"
   ]
  },
  {
   "cell_type": "code",
   "execution_count": 10,
   "id": "f84eced7",
   "metadata": {},
   "outputs": [],
   "source": [
    "class SentimentClassifier(nn.Module):\n",
    "    def __init__(self, input_size, hidden_size1, hidden_size2, output_size):\n",
    "        super(SentimentClassifier, self).__init__()\n",
    "        self.fc1 = nn.Linear(input_size, hidden_size1).float() \n",
    "        self.relu1 = nn.ReLU()\n",
    "        self.fc2 = nn.Linear(hidden_size1, hidden_size2).float() \n",
    "        self.relu2 = nn.ReLU()\n",
    "        self.fc3 = nn.Linear(hidden_size2, output_size).float()\n",
    "\n",
    "    def forward(self, x):\n",
    "        x = self.relu1(self.fc1(x))\n",
    "        x = self.relu2(self.fc2(x))\n",
    "        x = self.fc3(x)\n",
    "        return x\n",
    "\n",
    "\n",
    "input_size = 3000  \n",
    "hidden_size1 = 50\n",
    "hidden_size2 = 10\n",
    "output_size_ternary = 3 \n",
    "\n",
    "model_binary = SentimentClassifier(input_size, hidden_size1, hidden_size2, output_size_ternary).to(device)\n",
    "\n",
    "criterion = nn.CrossEntropyLoss()\n",
    "optimizer_binary = optim.Adam(model_binary.parameters(), lr=0.001)"
   ]
  },
  {
   "cell_type": "code",
   "execution_count": 11,
   "id": "13512879",
   "metadata": {},
   "outputs": [],
   "source": [
    "batch_size = 16"
   ]
  },
  {
   "cell_type": "code",
   "execution_count": 12,
   "id": "ab48b568",
   "metadata": {},
   "outputs": [],
   "source": [
    "train_loader = DataLoader(train_dataset, batch_size=batch_size, shuffle=True)"
   ]
  },
  {
   "cell_type": "code",
   "execution_count": 13,
   "id": "10d3fa8e",
   "metadata": {},
   "outputs": [],
   "source": [
    "test_loader = DataLoader(test_dataset, batch_size=batch_size, shuffle=False)"
   ]
  },
  {
   "cell_type": "code",
   "execution_count": 14,
   "id": "8234f431",
   "metadata": {},
   "outputs": [],
   "source": [
    "num_epochs = 5\n",
    "for epoch in range(num_epochs):\n",
    "    model_binary.train()\n",
    "    for inputs, labels in train_loader:\n",
    "        inputs = inputs.view(inputs.size(0), -1).float()\n",
    "        outputs_binary = model_binary(inputs.to(device))\n",
    "        loss_binary = criterion(outputs_binary, labels.to(device))\n",
    "\n",
    "        # Backward and optimize\n",
    "        optimizer_binary.zero_grad()\n",
    "        loss_binary.backward()\n",
    "        optimizer_binary.step()"
   ]
  },
  {
   "cell_type": "code",
   "execution_count": 15,
   "id": "b9815829",
   "metadata": {},
   "outputs": [
    {
     "name": "stdout",
     "output_type": "stream",
     "text": [
      "0.62222\n"
     ]
    }
   ],
   "source": [
    "from sklearn.metrics import accuracy_score\n",
    "model_binary.to('cpu')\n",
    "model_binary.eval()\n",
    "predictions_binary = []\n",
    "true_labels_binary = []\n",
    "with torch.no_grad():\n",
    "    for inputs, labels in test_loader:\n",
    "        inputs = inputs.view(inputs.size(0), -1).float()\n",
    "        outputs_binary = model_binary(inputs)\n",
    "        _, predicted_binary = torch.max(outputs_binary, 1)\n",
    "        predictions_binary.extend(predicted_binary.numpy())\n",
    "        true_labels_binary.extend(labels.numpy())\n",
    "accuracy_ternary = accuracy_score(true_labels_binary, predictions_binary)\n",
    "print(accuracy_ternary)"
   ]
  },
  {
   "cell_type": "code",
   "execution_count": null,
   "id": "a41360c6",
   "metadata": {},
   "outputs": [],
   "source": []
  }
 ],
 "metadata": {
  "kernelspec": {
   "display_name": "py375",
   "language": "python",
   "name": "561"
  },
  "language_info": {
   "codemirror_mode": {
    "name": "ipython",
    "version": 3
   },
   "file_extension": ".py",
   "mimetype": "text/x-python",
   "name": "python",
   "nbconvert_exporter": "python",
   "pygments_lexer": "ipython3",
   "version": "3.7.5"
  }
 },
 "nbformat": 4,
 "nbformat_minor": 5
}
