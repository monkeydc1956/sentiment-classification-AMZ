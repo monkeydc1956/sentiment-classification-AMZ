{
 "cells": [
  {
   "cell_type": "code",
   "execution_count": 1,
   "id": "754cb2fd",
   "metadata": {},
   "outputs": [
    {
     "name": "stderr",
     "output_type": "stream",
     "text": [
      "[nltk_data] Downloading package wordnet to\n",
      "[nltk_data]     C:\\Users\\monkeydc\\AppData\\Roaming\\nltk_data...\n",
      "[nltk_data]   Package wordnet is already up-to-date!\n",
      "C:\\Users\\monkeydc\\.conda\\envs\\561\\lib\\site-packages\\ipykernel_launcher.py:17: MarkupResemblesLocatorWarning: The input looks more like a filename than markup. You may want to open this file and pass the filehandle into Beautiful Soup.\n",
      "  app.launch_new_instance()\n",
      "C:\\Users\\monkeydc\\.conda\\envs\\561\\lib\\site-packages\\ipykernel_launcher.py:17: MarkupResemblesLocatorWarning: The input looks more like a URL than markup. You may want to use an HTTP client like requests to get the document behind the URL, and feed that document to Beautiful Soup.\n",
      "  app.launch_new_instance()\n",
      "[nltk_data] Downloading package stopwords to\n",
      "[nltk_data]     C:\\Users\\monkeydc\\AppData\\Roaming\\nltk_data...\n",
      "[nltk_data]   Package stopwords is already up-to-date!\n",
      "[nltk_data] Downloading package omw-1.4 to\n",
      "[nltk_data]     C:\\Users\\monkeydc\\AppData\\Roaming\\nltk_data...\n",
      "[nltk_data]   Package omw-1.4 is already up-to-date!\n"
     ]
    }
   ],
   "source": [
    "import pandas as pd\n",
    "import numpy as np\n",
    "import nltk\n",
    "nltk.download('wordnet')\n",
    "raw_data = pd.read_csv('./dataset.csv', sep=',')\n",
    "for index in range(len(raw_data)):\n",
    "    if raw_data.at[index, 'star_rating'] > 3:\n",
    "        raw_data.at[index, 'star_rating'] = 1\n",
    "    elif raw_data.at[index, 'star_rating'] == 3:\n",
    "        raw_data.at[index, 'star_rating'] = 2\n",
    "    else:\n",
    "        raw_data.at[index, 'star_rating'] = 0\n",
    "from bs4 import BeautifulSoup\n",
    "import re\n",
    "# data cleaning\n",
    "raw_data['review_body'] = raw_data['review_body'].str.lower()\n",
    "raw_data['review_body'] = raw_data['review_body'].apply(lambda x: re.sub(r'http\\S+', '', BeautifulSoup(x, 'html.parser').get_text()))\n",
    "def remove_non_alphabetical(text):\n",
    "    return re.sub(r'[^a-zA-Z\\s]', '', text)\n",
    "\n",
    "raw_data['review_body'] = raw_data['review_body'].apply(remove_non_alphabetical)\n",
    "raw_data['review_body'] = raw_data['review_body'].apply(lambda x: ' '.join(x.split()))\n",
    "contraction_dict = contraction_dict = {\n",
    "    \"don't\": \"do not\",\n",
    "    \"doesn't\": \"does not\",\n",
    "    \"didn't\": \"did not\",\n",
    "    \"can't\": \"cannot\",\n",
    "    \"won't\": \"will not\",\n",
    "    \"isn't\": \"is not\",\n",
    "    \"haven't\": \"have not\",\n",
    "    \"hasn't\": \"has not\",\n",
    "    \"hadn't\": \"had not\",\n",
    "    \"you're\": \"you are\",\n",
    "    \"you've\": \"you have\",\n",
    "    \"you'll\": \"you will\",\n",
    "    \"when's\": \"when is\",\n",
    "    \"let's\": \"let us\",\n",
    "    \"'cause\": \"because\",\n",
    "    \"shouldn't\": \"should not\",\n",
    "    \"wouldn't\": \"would not\",\n",
    "    \"couldn't\": \"could not\",\n",
    "    \"wasn't\": \"was not\",\n",
    "    \"weren't\": \"were not\",\n",
    "    \"I'm\": \"I am\",\n",
    "    \"I've\": \"I have\",\n",
    "    \"I'll\": \"I will\",\n",
    "    \"it's\": \"it is\",\n",
    "    \"that's\": \"that is\",\n",
    "    \"who's\": \"who is\",\n",
    "    \"what's\": \"what is\",\n",
    "    \"where's\": \"where is\",\n",
    "    \"we're\": \"we are\",\n",
    "    \"we've\": \"we have\",\n",
    "    \"we'll\": \"we will\",\n",
    "    \"they're\": \"they are\",\n",
    "    \"they've\": \"they have\",\n",
    "    \"they'll\": \"they will\",\n",
    "    \"she's\": \"she is\",\n",
    "    \"he's\": \"he is\",\n",
    "    \"how's\": \"how is\",\n",
    "    \"you'd\": \"you would\",\n",
    "    \"we'd\": \"we would\",\n",
    "    \"they'd\": \"they would\",\n",
    "}\n",
    "raw_data['review_body'] = raw_data['review_body'].replace(contraction_dict, regex=True)\n",
    "from nltk.corpus import stopwords\n",
    "nltk.download('stopwords')\n",
    "stop_words = set(stopwords.words('english'))\n",
    "def remove_stop_words(text):\n",
    "    words = text.split(\" \")\n",
    "    filtered_words = [word for word in words if word.lower() not in stop_words]\n",
    "    return ' '.join(filtered_words)\n",
    "raw_data['review_body'] = raw_data['review_body'].apply(remove_stop_words)\n",
    "from nltk.stem import WordNetLemmatizer\n",
    "lemmatizer = WordNetLemmatizer()\n",
    "nltk.download('omw-1.4') # I have to download this dataset\n",
    "raw_data['review_body'] = raw_data['review_body'].apply(lambda x: ' '.join([lemmatizer.lemmatize(word) for word in x.split()]))\n",
    "from gensim.models import Word2Vec\n",
    "from nltk.tokenize import word_tokenize\n",
    "import nltk\n",
    "import string\n",
    "def preprocess_text(text):\n",
    "    tokens = word_tokenize(text)\n",
    "    stop_words = set(stopwords.words('english') + list(string.punctuation))\n",
    "    tokens = [word.lower() for word in tokens if word.isalpha() and word.lower() not in stop_words]\n",
    "    return tokens\n",
    "raw_data['clean_reviw'] = raw_data['review_body'].apply(preprocess_text)\n",
    "# better word2vec\n",
    "# model = Word2Vec(sentences=raw_data['clean_reviw'], vector_size=300, window=5, min_count=1, workers=4)"
   ]
  },
  {
   "cell_type": "markdown",
   "id": "59edf51f",
   "metadata": {},
   "source": [
    "# HW2-CNN-self-binary"
   ]
  },
  {
   "cell_type": "code",
   "execution_count": 2,
   "id": "32105945",
   "metadata": {},
   "outputs": [],
   "source": [
    "import gensim.downloader as api\n",
    "wv = api.load('word2vec-google-news-300')\n",
    "import gensim\n",
    "model = gensim.models.KeyedVectors.load_word2vec_format('word2vec_model_b.txt', binary=False)"
   ]
  },
  {
   "cell_type": "code",
   "execution_count": 3,
   "id": "d98aee91",
   "metadata": {},
   "outputs": [],
   "source": [
    "values_to_stratify = [0,1]\n",
    "def stratified_sample(group, n=100000):\n",
    "    return group.sample(n=n, random_state=1)\n",
    "\n",
    "binary_data= raw_data[raw_data['star_rating'].isin(values_to_stratify)].groupby('star_rating', group_keys=False).apply(stratified_sample)"
   ]
  },
  {
   "cell_type": "code",
   "execution_count": 4,
   "id": "3f37c84c",
   "metadata": {},
   "outputs": [],
   "source": [
    "from sklearn.utils import shuffle\n",
    "shuffled_dataset = shuffle(binary_data, random_state=42)"
   ]
  },
  {
   "cell_type": "code",
   "execution_count": 5,
   "id": "5a744fb9",
   "metadata": {
    "scrolled": true
   },
   "outputs": [],
   "source": [
    "max_len = 50\n",
    "def tokenize_and_pad(text, max_len):\n",
    "    text = text[:max_len]  # Truncate longer reviews\n",
    "    padding = max(0, max_len - len(text))\n",
    "    return text + ['<PAD>'] * padding\n",
    "\n",
    "shuffled_dataset['padded_text_column'] = shuffled_dataset['clean_reviw'].apply(lambda x: tokenize_and_pad(x, max_len))"
   ]
  },
  {
   "cell_type": "code",
   "execution_count": 6,
   "id": "8d531382",
   "metadata": {
    "scrolled": true
   },
   "outputs": [],
   "source": [
    "X_self_wv = np.zeros((len(shuffled_dataset), max_len, 300), dtype=np.float32)\n",
    "\n",
    "for i, review in enumerate(shuffled_dataset['padded_text_column']):\n",
    "    for j, word in enumerate(review):\n",
    "        if word in model:\n",
    "            X_self_wv[i, j, :] = model[word]\n",
    "        else:\n",
    "            X_self_wv[i, j, :] = np.zeros(300, dtype=np.float32)\n",
    "\n",
    "# X_self_wv = np.array([np.array([model[word] if word in model else np.zeros(300) for word in review]) for review in shuffled_dataset['padded_text_column']])"
   ]
  },
  {
   "cell_type": "code",
   "execution_count": 7,
   "id": "7970555f",
   "metadata": {},
   "outputs": [
    {
     "name": "stdout",
     "output_type": "stream",
     "text": [
      "(200000, 50, 300)\n"
     ]
    }
   ],
   "source": [
    "print(X_self_wv.shape)"
   ]
  },
  {
   "cell_type": "code",
   "execution_count": 8,
   "id": "5a993c62",
   "metadata": {},
   "outputs": [
    {
     "name": "stderr",
     "output_type": "stream",
     "text": [
      "C:\\Users\\monkeydc\\.conda\\envs\\561\\lib\\site-packages\\tqdm\\auto.py:22: TqdmWarning: IProgress not found. Please update jupyter and ipywidgets. See https://ipywidgets.readthedocs.io/en/stable/user_install.html\n",
      "  from .autonotebook import tqdm as notebook_tqdm\n"
     ]
    }
   ],
   "source": [
    "import torch\n",
    "import torch.nn as nn\n",
    "import torch.optim as optim\n",
    "from torch.utils.data import Dataset, DataLoader\n",
    "from sklearn.model_selection import train_test_split\n",
    "from gensim.models import Word2Vec\n",
    "from nltk.tokenize import word_tokenize\n",
    "import numpy as np"
   ]
  },
  {
   "cell_type": "code",
   "execution_count": 9,
   "id": "6ee828a2",
   "metadata": {},
   "outputs": [],
   "source": [
    "X_padded_tensor = torch.FloatTensor(X_self_wv)\n",
    "X = X_padded_tensor\n",
    "y = shuffled_dataset['star_rating'].astype(int)  "
   ]
  },
  {
   "cell_type": "code",
   "execution_count": 10,
   "id": "ec6ee5c4",
   "metadata": {},
   "outputs": [
    {
     "name": "stdout",
     "output_type": "stream",
     "text": [
      "torch.Size([200000, 50, 300])\n"
     ]
    }
   ],
   "source": [
    "print(X.shape)"
   ]
  },
  {
   "cell_type": "code",
   "execution_count": 11,
   "id": "e2993271",
   "metadata": {},
   "outputs": [
    {
     "name": "stdout",
     "output_type": "stream",
     "text": [
      "200000\n"
     ]
    }
   ],
   "source": [
    "print(len(X))"
   ]
  },
  {
   "cell_type": "code",
   "execution_count": 12,
   "id": "bbc03397",
   "metadata": {},
   "outputs": [],
   "source": [
    "X_train_s = X[0:160000]\n",
    "X_test_s = X[160000:]\n",
    "y_train_s = y[0:160000]\n",
    "y_test_s = y[160000:]"
   ]
  },
  {
   "cell_type": "code",
   "execution_count": 13,
   "id": "a2c92cc2",
   "metadata": {
    "scrolled": true
   },
   "outputs": [],
   "source": [
    "class MyCNN(nn.Module):\n",
    "    def __init__(self, input_size, output_channels):\n",
    "        super(MyCNN, self).__init__()\n",
    "        self.conv1 = nn.Conv1d(in_channels=300, out_channels=50, kernel_size=3)\n",
    "        self.conv2 = nn.Conv1d(in_channels=50, out_channels=10, kernel_size=3)\n",
    "        self.global_pooling = nn.AdaptiveMaxPool1d(1)\n",
    "        self.fc = nn.Linear(10, 2)  \n",
    "\n",
    "    def forward(self, x):\n",
    "        x = nn.functional.relu(self.conv1(x))\n",
    "        x = nn.functional.relu(self.conv2(x))\n",
    "        x = self.global_pooling(x).squeeze(2)\n",
    "        x = self.fc(x)\n",
    "        return x\n",
    "input_size = 300  # Size of Word2Vec vectors\n",
    "output_channels = [50, 10]  # Output channel sizes\n",
    "\n",
    "cnn_model = MyCNN(input_size, output_channels)\n",
    "\n",
    "criterion = nn.CrossEntropyLoss()\n",
    "optimizer = optim.Adam(cnn_model.parameters(), lr=0.001)\n",
    "\n",
    "X_train_tensor_s_cnn = X_train_s.permute(0,2,1)  # Permute dimensions for CNN input\n",
    "y_train_tensor_s_cnn = torch.LongTensor(y_train_s.values)  # Assuming your target values are integers\n",
    "X_test_tensor_s_cnn = X_test_s.permute(0,2,1)  # Permute dimensions for CNN input\n",
    "y_test_tensor_s_cnn = torch.LongTensor(y_test_s.values)"
   ]
  },
  {
   "cell_type": "code",
   "execution_count": 14,
   "id": "79bcc0b0",
   "metadata": {},
   "outputs": [],
   "source": [
    "epochs = 5\n",
    "batch_size = 32\n",
    "\n",
    "for epoch in range(epochs):\n",
    "    for i in range(0, len(X_train_tensor_s_cnn), batch_size):\n",
    "        batch_X = X_train_tensor_s_cnn[i:i + batch_size]\n",
    "        batch_y = y_train_tensor_s_cnn[i:i + batch_size]\n",
    "\n",
    "        optimizer.zero_grad()\n",
    "        outputs = cnn_model(batch_X)\n",
    "        loss = criterion(outputs.squeeze(), batch_y)\n",
    "        loss.backward()\n",
    "        optimizer.step()\n"
   ]
  },
  {
   "cell_type": "code",
   "execution_count": 15,
   "id": "3e68e9a3",
   "metadata": {},
   "outputs": [
    {
     "name": "stdout",
     "output_type": "stream",
     "text": [
      "0.858525\n"
     ]
    }
   ],
   "source": [
    "from sklearn.metrics import accuracy_score\n",
    "with torch.no_grad():\n",
    "    cnn_model.eval()\n",
    "    outputs = cnn_model(X_test_tensor_s_cnn)\n",
    "    predictions = torch.argmax(outputs, dim=1)\n",
    "    accuracy = accuracy_score(y_test_tensor_s_cnn.numpy(), predictions.numpy())\n",
    "print(accuracy)"
   ]
  },
  {
   "cell_type": "code",
   "execution_count": null,
   "id": "bde3d4ab",
   "metadata": {},
   "outputs": [],
   "source": []
  }
 ],
 "metadata": {
  "kernelspec": {
   "display_name": "py375",
   "language": "python",
   "name": "561"
  },
  "language_info": {
   "codemirror_mode": {
    "name": "ipython",
    "version": 3
   },
   "file_extension": ".py",
   "mimetype": "text/x-python",
   "name": "python",
   "nbconvert_exporter": "python",
   "pygments_lexer": "ipython3",
   "version": "3.7.5"
  }
 },
 "nbformat": 4,
 "nbformat_minor": 5
}
